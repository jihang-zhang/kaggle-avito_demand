{
 "cells": [
  {
   "cell_type": "code",
   "execution_count": 4,
   "metadata": {},
   "outputs": [],
   "source": [
    "import numpy as np \n",
    "import pandas as pd\n",
    "import os\n",
    "import gc\n",
    "import re\n",
    "\n",
    "# feature libraries\n",
    "from scipy.sparse import hstack, csr_matrix\n",
    "from sklearn import preprocessing"
   ]
  },
  {
   "cell_type": "code",
   "execution_count": 8,
   "metadata": {},
   "outputs": [],
   "source": [
    "data_dir = '../input/kaggle_data'\n",
    "feat_dir = '../input/features'"
   ]
  },
  {
   "cell_type": "code",
   "execution_count": 11,
   "metadata": {},
   "outputs": [
    {
     "data": {
      "text/plain": [
       "14"
      ]
     },
     "execution_count": 11,
     "metadata": {},
     "output_type": "execute_result"
    }
   ],
   "source": [
    "used_cols = ['item_id','image']\n",
    "\n",
    "train = pd.read_csv(f'{data_dir}/train.csv', index_col=\"item_id\", usecols=used_cols)\n",
    "test = pd.read_csv(f'{data_dir}/test.csv', index_col=\"item_id\", usecols=used_cols)\n",
    "\n",
    "df = pd.concat([train, test], axis=0)\n",
    "\n",
    "train_idx = train.index\n",
    "test_idx = test.index\n",
    "\n",
    "train_img_nima = pd.read_csv(f'{feat_dir}/train_img_nima.csv')\n",
    "test_img_nima = pd.read_csv(f'{feat_dir}/test_img_nima.csv')\n",
    "\n",
    "df_img_nima = pd.concat([train_img_nima,test_img_nima],axis=0)\n",
    "\n",
    "del train, test\n",
    "gc.collect()"
   ]
  },
  {
   "cell_type": "code",
   "execution_count": 12,
   "metadata": {},
   "outputs": [],
   "source": [
    "df = df.reset_index().merge(df_img_nima, how=\"left\", on='image').set_index('item_id')\n"
   ]
  },
  {
   "cell_type": "code",
   "execution_count": 14,
   "metadata": {},
   "outputs": [],
   "source": [
    "nima_cols = [\"mobile_mean\", \"mobile_std\",\"inception_mean\", \"inception_std\", \"nasnet_mean\", \"nasnet_std\"]\n",
    "df[nima_cols] = df[nima_cols].fillna(0)\n",
    "for c in nima_cols:\n",
    "    df[c] = (df[c] - np.mean(df[c]))/np.std(df[c])"
   ]
  },
  {
   "cell_type": "code",
   "execution_count": 18,
   "metadata": {},
   "outputs": [],
   "source": [
    "df.drop(['image'], axis=1, inplace=True)"
   ]
  },
  {
   "cell_type": "code",
   "execution_count": 19,
   "metadata": {},
   "outputs": [
    {
     "data": {
      "text/plain": [
       "[]"
      ]
     },
     "execution_count": 19,
     "metadata": {},
     "output_type": "execute_result"
    }
   ],
   "source": [
    "df.columns[df.isna().any()].tolist()"
   ]
  },
  {
   "cell_type": "code",
   "execution_count": 21,
   "metadata": {},
   "outputs": [
    {
     "data": {
      "text/plain": [
       "['mobile_mean',\n",
       " 'mobile_std',\n",
       " 'inception_mean',\n",
       " 'inception_std',\n",
       " 'nasnet_mean',\n",
       " 'nasnet_std']"
      ]
     },
     "execution_count": 21,
     "metadata": {},
     "output_type": "execute_result"
    }
   ],
   "source": [
    "feat_cols = list(df.columns)\n",
    "feat_cols"
   ]
  },
  {
   "cell_type": "code",
   "execution_count": 26,
   "metadata": {},
   "outputs": [
    {
     "data": {
      "text/html": [
       "<div>\n",
       "<style scoped>\n",
       "    .dataframe tbody tr th:only-of-type {\n",
       "        vertical-align: middle;\n",
       "    }\n",
       "\n",
       "    .dataframe tbody tr th {\n",
       "        vertical-align: top;\n",
       "    }\n",
       "\n",
       "    .dataframe thead th {\n",
       "        text-align: right;\n",
       "    }\n",
       "</style>\n",
       "<table border=\"1\" class=\"dataframe\">\n",
       "  <thead>\n",
       "    <tr style=\"text-align: right;\">\n",
       "      <th></th>\n",
       "      <th>mobile_mean</th>\n",
       "      <th>mobile_std</th>\n",
       "      <th>inception_mean</th>\n",
       "      <th>inception_std</th>\n",
       "      <th>nasnet_mean</th>\n",
       "      <th>nasnet_std</th>\n",
       "    </tr>\n",
       "    <tr>\n",
       "      <th>item_id</th>\n",
       "      <th></th>\n",
       "      <th></th>\n",
       "      <th></th>\n",
       "      <th></th>\n",
       "      <th></th>\n",
       "      <th></th>\n",
       "    </tr>\n",
       "  </thead>\n",
       "  <tbody>\n",
       "    <tr>\n",
       "      <th>b912c3c6a6ad</th>\n",
       "      <td>0.376462</td>\n",
       "      <td>0.196650</td>\n",
       "      <td>0.038229</td>\n",
       "      <td>0.360435</td>\n",
       "      <td>-0.071322</td>\n",
       "      <td>0.059919</td>\n",
       "    </tr>\n",
       "    <tr>\n",
       "      <th>2dac0150717d</th>\n",
       "      <td>0.380049</td>\n",
       "      <td>0.214786</td>\n",
       "      <td>0.588905</td>\n",
       "      <td>0.167156</td>\n",
       "      <td>0.240389</td>\n",
       "      <td>-0.033727</td>\n",
       "    </tr>\n",
       "    <tr>\n",
       "      <th>ba83aefab5dc</th>\n",
       "      <td>0.542563</td>\n",
       "      <td>0.095300</td>\n",
       "      <td>0.846048</td>\n",
       "      <td>0.241327</td>\n",
       "      <td>0.945804</td>\n",
       "      <td>0.401474</td>\n",
       "    </tr>\n",
       "    <tr>\n",
       "      <th>02996f1dd2ea</th>\n",
       "      <td>0.440850</td>\n",
       "      <td>0.415528</td>\n",
       "      <td>0.831658</td>\n",
       "      <td>0.253381</td>\n",
       "      <td>0.486166</td>\n",
       "      <td>0.321294</td>\n",
       "    </tr>\n",
       "    <tr>\n",
       "      <th>7c90be56d2ab</th>\n",
       "      <td>0.051788</td>\n",
       "      <td>0.310443</td>\n",
       "      <td>0.310625</td>\n",
       "      <td>0.161061</td>\n",
       "      <td>0.436753</td>\n",
       "      <td>0.278871</td>\n",
       "    </tr>\n",
       "  </tbody>\n",
       "</table>\n",
       "</div>"
      ],
      "text/plain": [
       "              mobile_mean  mobile_std  inception_mean  inception_std  \\\n",
       "item_id                                                                \n",
       "b912c3c6a6ad     0.376462    0.196650        0.038229       0.360435   \n",
       "2dac0150717d     0.380049    0.214786        0.588905       0.167156   \n",
       "ba83aefab5dc     0.542563    0.095300        0.846048       0.241327   \n",
       "02996f1dd2ea     0.440850    0.415528        0.831658       0.253381   \n",
       "7c90be56d2ab     0.051788    0.310443        0.310625       0.161061   \n",
       "\n",
       "              nasnet_mean  nasnet_std  \n",
       "item_id                                \n",
       "b912c3c6a6ad    -0.071322    0.059919  \n",
       "2dac0150717d     0.240389   -0.033727  \n",
       "ba83aefab5dc     0.945804    0.401474  \n",
       "02996f1dd2ea     0.486166    0.321294  \n",
       "7c90be56d2ab     0.436753    0.278871  "
      ]
     },
     "execution_count": 26,
     "metadata": {},
     "output_type": "execute_result"
    }
   ],
   "source": [
    "train_nima = df.loc[train_idx,:]\n",
    "train_nima.head()"
   ]
  },
  {
   "cell_type": "code",
   "execution_count": 23,
   "metadata": {},
   "outputs": [
    {
     "data": {
      "text/html": [
       "<div>\n",
       "<style scoped>\n",
       "    .dataframe tbody tr th:only-of-type {\n",
       "        vertical-align: middle;\n",
       "    }\n",
       "\n",
       "    .dataframe tbody tr th {\n",
       "        vertical-align: top;\n",
       "    }\n",
       "\n",
       "    .dataframe thead th {\n",
       "        text-align: right;\n",
       "    }\n",
       "</style>\n",
       "<table border=\"1\" class=\"dataframe\">\n",
       "  <thead>\n",
       "    <tr style=\"text-align: right;\">\n",
       "      <th></th>\n",
       "      <th>mobile_mean</th>\n",
       "      <th>mobile_std</th>\n",
       "      <th>inception_mean</th>\n",
       "      <th>inception_std</th>\n",
       "      <th>nasnet_mean</th>\n",
       "      <th>nasnet_std</th>\n",
       "    </tr>\n",
       "    <tr>\n",
       "      <th>item_id</th>\n",
       "      <th></th>\n",
       "      <th></th>\n",
       "      <th></th>\n",
       "      <th></th>\n",
       "      <th></th>\n",
       "      <th></th>\n",
       "    </tr>\n",
       "  </thead>\n",
       "  <tbody>\n",
       "    <tr>\n",
       "      <th>6544e41a8817</th>\n",
       "      <td>0.141726</td>\n",
       "      <td>0.081817</td>\n",
       "      <td>0.354108</td>\n",
       "      <td>0.287142</td>\n",
       "      <td>0.342020</td>\n",
       "      <td>0.375762</td>\n",
       "    </tr>\n",
       "    <tr>\n",
       "      <th>65b9484d670f</th>\n",
       "      <td>-3.343175</td>\n",
       "      <td>-3.347877</td>\n",
       "      <td>-3.209252</td>\n",
       "      <td>-3.362997</td>\n",
       "      <td>-3.191177</td>\n",
       "      <td>-3.358589</td>\n",
       "    </tr>\n",
       "    <tr>\n",
       "      <th>8bab230b2ecd</th>\n",
       "      <td>0.530402</td>\n",
       "      <td>0.453288</td>\n",
       "      <td>0.344191</td>\n",
       "      <td>0.330563</td>\n",
       "      <td>0.398008</td>\n",
       "      <td>0.501167</td>\n",
       "    </tr>\n",
       "    <tr>\n",
       "      <th>8e348601fefc</th>\n",
       "      <td>-3.343175</td>\n",
       "      <td>-3.347877</td>\n",
       "      <td>-3.209252</td>\n",
       "      <td>-3.362997</td>\n",
       "      <td>-3.191177</td>\n",
       "      <td>-3.358589</td>\n",
       "    </tr>\n",
       "    <tr>\n",
       "      <th>8bd2fe400b89</th>\n",
       "      <td>0.197106</td>\n",
       "      <td>0.255780</td>\n",
       "      <td>-0.233574</td>\n",
       "      <td>0.095748</td>\n",
       "      <td>-0.191619</td>\n",
       "      <td>0.192074</td>\n",
       "    </tr>\n",
       "  </tbody>\n",
       "</table>\n",
       "</div>"
      ],
      "text/plain": [
       "              mobile_mean  mobile_std  inception_mean  inception_std  \\\n",
       "item_id                                                                \n",
       "6544e41a8817     0.141726    0.081817        0.354108       0.287142   \n",
       "65b9484d670f    -3.343175   -3.347877       -3.209252      -3.362997   \n",
       "8bab230b2ecd     0.530402    0.453288        0.344191       0.330563   \n",
       "8e348601fefc    -3.343175   -3.347877       -3.209252      -3.362997   \n",
       "8bd2fe400b89     0.197106    0.255780       -0.233574       0.095748   \n",
       "\n",
       "              nasnet_mean  nasnet_std  \n",
       "item_id                                \n",
       "6544e41a8817     0.342020    0.375762  \n",
       "65b9484d670f    -3.191177   -3.358589  \n",
       "8bab230b2ecd     0.398008    0.501167  \n",
       "8e348601fefc    -3.191177   -3.358589  \n",
       "8bd2fe400b89    -0.191619    0.192074  "
      ]
     },
     "execution_count": 23,
     "metadata": {},
     "output_type": "execute_result"
    }
   ],
   "source": [
    "test_nima = df.loc[test_idx,:]\n",
    "test_nima.head()"
   ]
  },
  {
   "cell_type": "code",
   "execution_count": 27,
   "metadata": {},
   "outputs": [],
   "source": [
    "train_nima.to_csv(f'{feat_dir}/train_nima.csv', index=True, header=True)\n",
    "test_nima.to_csv(f'{feat_dir}/test_nima.csv', index=True, header=True)"
   ]
  }
 ],
 "metadata": {
  "kernelspec": {
   "display_name": "Python 3",
   "language": "python",
   "name": "python3"
  },
  "language_info": {
   "codemirror_mode": {
    "name": "ipython",
    "version": 3
   },
   "file_extension": ".py",
   "mimetype": "text/x-python",
   "name": "python",
   "nbconvert_exporter": "python",
   "pygments_lexer": "ipython3",
   "version": "3.6.5"
  }
 },
 "nbformat": 4,
 "nbformat_minor": 2
}
