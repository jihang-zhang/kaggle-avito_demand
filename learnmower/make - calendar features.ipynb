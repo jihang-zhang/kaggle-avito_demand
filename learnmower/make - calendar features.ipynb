{
 "cells": [
  {
   "cell_type": "code",
   "execution_count": 1,
   "metadata": {},
   "outputs": [],
   "source": [
    "import numpy as np \n",
    "import pandas as pd\n",
    "import os\n",
    "import gc\n",
    "\n",
    "# feature libraries\n",
    "from scipy.sparse import hstack, csr_matrix"
   ]
  },
  {
   "cell_type": "code",
   "execution_count": 2,
   "metadata": {},
   "outputs": [],
   "source": [
    "# standard directories\n",
    "data_dir = '../input/kaggle_data'\n",
    "feat_dir = '../input/features'"
   ]
  },
  {
   "cell_type": "code",
   "execution_count": 21,
   "metadata": {},
   "outputs": [
    {
     "data": {
      "text/plain": [
       "84"
      ]
     },
     "execution_count": 21,
     "metadata": {},
     "output_type": "execute_result"
    }
   ],
   "source": [
    "used_cols = ['item_id', 'activation_date']\n",
    "\n",
    "train = pd.read_csv(f'{data_dir}/train.csv', index_col=\"item_id\", parse_dates=[\"activation_date\"], usecols=used_cols)\n",
    "test = pd.read_csv(f'{data_dir}/test.csv', index_col=\"item_id\", parse_dates=[\"activation_date\"], usecols=used_cols)\n",
    "\n",
    "train_idx = train.index\n",
    "test_idx = test.index\n",
    "df = pd.concat([train, test], axis=0)\n",
    "\n",
    "del train, test\n",
    "gc.collect()"
   ]
  },
  {
   "cell_type": "code",
   "execution_count": 22,
   "metadata": {},
   "outputs": [],
   "source": [
    "df[\"calendar_weekday\"] = df['activation_date'].dt.weekday\n",
    "df[\"calendar_week\"] = df['activation_date'].dt.week\n",
    "df[\"calendar_day\"] = df['activation_date'].dt.day  \n",
    "df.drop('activation_date', axis=1, inplace=True)\n",
    "\n",
    "for c in ['calendar_week', 'calendar_day']:\n",
    "    df[c] = (df[c] - np.mean(df[c]))/np.std(df[c])\n"
   ]
  },
  {
   "cell_type": "code",
   "execution_count": 23,
   "metadata": {},
   "outputs": [
    {
     "data": {
      "text/plain": [
       "['calendar_weekday', 'calendar_week', 'calendar_day']"
      ]
     },
     "execution_count": 23,
     "metadata": {},
     "output_type": "execute_result"
    }
   ],
   "source": [
    "feat_cols = list(df.columns)\n",
    "feat_cols"
   ]
  },
  {
   "cell_type": "code",
   "execution_count": 24,
   "metadata": {},
   "outputs": [
    {
     "data": {
      "text/plain": [
       "[]"
      ]
     },
     "execution_count": 24,
     "metadata": {},
     "output_type": "execute_result"
    }
   ],
   "source": [
    "df.columns[df.isna().any()].tolist()"
   ]
  },
  {
   "cell_type": "code",
   "execution_count": 25,
   "metadata": {},
   "outputs": [
    {
     "data": {
      "text/html": [
       "<div>\n",
       "<style scoped>\n",
       "    .dataframe tbody tr th:only-of-type {\n",
       "        vertical-align: middle;\n",
       "    }\n",
       "\n",
       "    .dataframe tbody tr th {\n",
       "        vertical-align: top;\n",
       "    }\n",
       "\n",
       "    .dataframe thead th {\n",
       "        text-align: right;\n",
       "    }\n",
       "</style>\n",
       "<table border=\"1\" class=\"dataframe\">\n",
       "  <thead>\n",
       "    <tr style=\"text-align: right;\">\n",
       "      <th></th>\n",
       "      <th>calendar_weekday</th>\n",
       "      <th>calendar_week</th>\n",
       "      <th>calendar_day</th>\n",
       "    </tr>\n",
       "    <tr>\n",
       "      <th>item_id</th>\n",
       "      <th></th>\n",
       "      <th></th>\n",
       "      <th></th>\n",
       "    </tr>\n",
       "  </thead>\n",
       "  <tbody>\n",
       "    <tr>\n",
       "      <th>b912c3c6a6ad</th>\n",
       "      <td>1</td>\n",
       "      <td>0.187244</td>\n",
       "      <td>1.748094</td>\n",
       "    </tr>\n",
       "    <tr>\n",
       "      <th>2dac0150717d</th>\n",
       "      <td>6</td>\n",
       "      <td>-0.417568</td>\n",
       "      <td>1.316686</td>\n",
       "    </tr>\n",
       "    <tr>\n",
       "      <th>ba83aefab5dc</th>\n",
       "      <td>0</td>\n",
       "      <td>-0.417568</td>\n",
       "      <td>0.022461</td>\n",
       "    </tr>\n",
       "    <tr>\n",
       "      <th>02996f1dd2ea</th>\n",
       "      <td>5</td>\n",
       "      <td>-0.417568</td>\n",
       "      <td>1.100982</td>\n",
       "    </tr>\n",
       "    <tr>\n",
       "      <th>7c90be56d2ab</th>\n",
       "      <td>3</td>\n",
       "      <td>-1.022380</td>\n",
       "      <td>-0.840356</td>\n",
       "    </tr>\n",
       "  </tbody>\n",
       "</table>\n",
       "</div>"
      ],
      "text/plain": [
       "              calendar_weekday  calendar_week  calendar_day\n",
       "item_id                                                    \n",
       "b912c3c6a6ad                 1       0.187244      1.748094\n",
       "2dac0150717d                 6      -0.417568      1.316686\n",
       "ba83aefab5dc                 0      -0.417568      0.022461\n",
       "02996f1dd2ea                 5      -0.417568      1.100982\n",
       "7c90be56d2ab                 3      -1.022380     -0.840356"
      ]
     },
     "execution_count": 25,
     "metadata": {},
     "output_type": "execute_result"
    }
   ],
   "source": [
    "train_calendar = df.loc[train_idx,:]     \n",
    "train_calendar.head()"
   ]
  },
  {
   "cell_type": "code",
   "execution_count": 26,
   "metadata": {},
   "outputs": [
    {
     "data": {
      "text/html": [
       "<div>\n",
       "<style scoped>\n",
       "    .dataframe tbody tr th:only-of-type {\n",
       "        vertical-align: middle;\n",
       "    }\n",
       "\n",
       "    .dataframe tbody tr th {\n",
       "        vertical-align: top;\n",
       "    }\n",
       "\n",
       "    .dataframe thead th {\n",
       "        text-align: right;\n",
       "    }\n",
       "</style>\n",
       "<table border=\"1\" class=\"dataframe\">\n",
       "  <thead>\n",
       "    <tr style=\"text-align: right;\">\n",
       "      <th></th>\n",
       "      <th>calendar_weekday</th>\n",
       "      <th>calendar_week</th>\n",
       "      <th>calendar_day</th>\n",
       "    </tr>\n",
       "    <tr>\n",
       "      <th>item_id</th>\n",
       "      <th></th>\n",
       "      <th></th>\n",
       "      <th></th>\n",
       "    </tr>\n",
       "  </thead>\n",
       "  <tbody>\n",
       "    <tr>\n",
       "      <th>6544e41a8817</th>\n",
       "      <td>1</td>\n",
       "      <td>2.001681</td>\n",
       "      <td>-0.408947</td>\n",
       "    </tr>\n",
       "    <tr>\n",
       "      <th>65b9484d670f</th>\n",
       "      <td>6</td>\n",
       "      <td>1.396868</td>\n",
       "      <td>-0.840356</td>\n",
       "    </tr>\n",
       "    <tr>\n",
       "      <th>8bab230b2ecd</th>\n",
       "      <td>0</td>\n",
       "      <td>2.001681</td>\n",
       "      <td>-0.624651</td>\n",
       "    </tr>\n",
       "    <tr>\n",
       "      <th>8e348601fefc</th>\n",
       "      <td>0</td>\n",
       "      <td>2.001681</td>\n",
       "      <td>-0.624651</td>\n",
       "    </tr>\n",
       "    <tr>\n",
       "      <th>8bd2fe400b89</th>\n",
       "      <td>5</td>\n",
       "      <td>1.396868</td>\n",
       "      <td>-1.056060</td>\n",
       "    </tr>\n",
       "  </tbody>\n",
       "</table>\n",
       "</div>"
      ],
      "text/plain": [
       "              calendar_weekday  calendar_week  calendar_day\n",
       "item_id                                                    \n",
       "6544e41a8817                 1       2.001681     -0.408947\n",
       "65b9484d670f                 6       1.396868     -0.840356\n",
       "8bab230b2ecd                 0       2.001681     -0.624651\n",
       "8e348601fefc                 0       2.001681     -0.624651\n",
       "8bd2fe400b89                 5       1.396868     -1.056060"
      ]
     },
     "execution_count": 26,
     "metadata": {},
     "output_type": "execute_result"
    }
   ],
   "source": [
    "test_calendar = df.loc[test_idx,:]        \n",
    "test_calendar.head()"
   ]
  },
  {
   "cell_type": "code",
   "execution_count": 28,
   "metadata": {},
   "outputs": [],
   "source": [
    "train_calendar.to_csv(f'{feat_dir}/train_calendar.csv', index=True, header=True)\n",
    "test_calendar.to_csv(f'{feat_dir}/test_calendar.csv', index=True, header=True)"
   ]
  }
 ],
 "metadata": {
  "kernelspec": {
   "display_name": "Python 3",
   "language": "python",
   "name": "python3"
  },
  "language_info": {
   "codemirror_mode": {
    "name": "ipython",
    "version": 3
   },
   "file_extension": ".py",
   "mimetype": "text/x-python",
   "name": "python",
   "nbconvert_exporter": "python",
   "pygments_lexer": "ipython3",
   "version": "3.6.5"
  }
 },
 "nbformat": 4,
 "nbformat_minor": 2
}
