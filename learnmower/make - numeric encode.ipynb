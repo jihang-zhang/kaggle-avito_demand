{
 "cells": [
  {
   "cell_type": "code",
   "execution_count": 1,
   "metadata": {},
   "outputs": [],
   "source": [
    "import numpy as np \n",
    "import pandas as pd\n",
    "import os\n",
    "import gc\n",
    "import re\n",
    "\n",
    "# feature libraries\n",
    "from scipy.sparse import hstack, csr_matrix\n",
    "from sklearn import preprocessing"
   ]
  },
  {
   "cell_type": "code",
   "execution_count": 2,
   "metadata": {},
   "outputs": [],
   "source": [
    "data_dir = '../input/kaggle_data'\n",
    "feat_dir = '../input/features'"
   ]
  },
  {
   "cell_type": "code",
   "execution_count": 3,
   "metadata": {},
   "outputs": [
    {
     "data": {
      "text/plain": [
       "14"
      ]
     },
     "execution_count": 3,
     "metadata": {},
     "output_type": "execute_result"
    }
   ],
   "source": [
    "used_cols = ['item_id','image_top_1','item_seq_number', 'price', 'region', 'city', 'param_3', 'param_2', 'param_1', \n",
    "             'category_name','parent_category_name']\n",
    "\n",
    "train = pd.read_csv(f'{data_dir}/train.csv', index_col=\"item_id\", usecols=used_cols)\n",
    "test = pd.read_csv(f'{data_dir}/test.csv', index_col=\"item_id\", usecols=used_cols)\n",
    "\n",
    "train_idx = train.index\n",
    "test_idx = test.index\n",
    "\n",
    "df = pd.concat([train, test], axis=0)\n",
    "\n",
    "del train, test\n",
    "gc.collect()"
   ]
  },
  {
   "cell_type": "code",
   "execution_count": 4,
   "metadata": {},
   "outputs": [
    {
     "data": {
      "text/plain": [
       "['param_1', 'param_2', 'param_3', 'price', 'image_top_1']"
      ]
     },
     "execution_count": 4,
     "metadata": {},
     "output_type": "execute_result"
    }
   ],
   "source": [
    "df.columns[df.isna().any()].tolist()"
   ]
  },
  {
   "cell_type": "code",
   "execution_count": 5,
   "metadata": {},
   "outputs": [
    {
     "name": "stderr",
     "output_type": "stream",
     "text": [
      "C:\\Users\\Thomas\\AppData\\Local\\Continuum\\anaconda3\\envs\\tensorflow\\lib\\site-packages\\numpy\\lib\\nanfunctions.py:1018: RuntimeWarning: Mean of empty slice\n",
      "  return np.nanmean(a, axis, out=out, keepdims=keepdims)\n"
     ]
    },
    {
     "name": "stdout",
     "output_type": "stream",
     "text": [
      "13695\n",
      "12308\n",
      "8962\n",
      "1989\n",
      "584\n",
      "7\n",
      "0\n"
     ]
    }
   ],
   "source": [
    "# impute price\n",
    "for c in ['price','image_top_1']:\n",
    "    df[c+'_missing'] = 0\n",
    "    df[c+'_missing'] = np.where(df[c].isnull(), 1, df[c+'_missing'])   \n",
    "    \n",
    "for c in ['param_1', 'param_2', 'param_3']:\n",
    "    df[c].fillna(value='none', inplace=True)\n",
    "    \n",
    "cat_cols = ['region','city','parent_category_name','category_name','param_1','param_2','param_3']\n",
    "\n",
    "for cols in cat_cols:\n",
    "    df[cols] = df[cols].astype(str)\n",
    "    df[cols] = df[cols].str.lower()\n",
    "    df[cols] = df[cols].replace(to_replace=' +', value=' ', regex=True)\n",
    "    \n",
    "lbl = preprocessing.LabelEncoder()\n",
    "for col in cat_cols:\n",
    "    df[col] = lbl.fit_transform(df[col])\n",
    "    \n",
    "def get_wo_nan_price(df):\n",
    "    df_wo_nan = pd.DataFrame(index=df.index)\n",
    "    df_wo_nan['price_wo_nan'] = df.groupby(['region','city','parent_category_name','category_name','param_1','param_2','param_3'])['price'].apply(lambda x: x.fillna(x.median()))\n",
    "    print(df_wo_nan['price_wo_nan'].isnull().sum())\n",
    "    df_wo_nan['price_wo_nan'] = df.groupby(['region','city','parent_category_name','category_name','param_1','param_2'])['price'].apply(lambda x: x.fillna(x.median()))\n",
    "    print(df_wo_nan['price_wo_nan'].isnull().sum())\n",
    "    df_wo_nan['price_wo_nan'] = df.groupby(['region','city','parent_category_name','category_name','param_1'])['price'].apply(lambda x: x.fillna(x.median()))\n",
    "    print(df_wo_nan['price_wo_nan'].isnull().sum())\n",
    "    df_wo_nan['price_wo_nan'] = df.groupby(['region','city','parent_category_name','category_name'])['price'].apply(lambda x: x.fillna(x.median()))\n",
    "    print(df_wo_nan['price_wo_nan'].isnull().sum())\n",
    "    df_wo_nan['price_wo_nan'] = df.groupby(['region','city','parent_category_name'])['price'].apply(lambda x: x.fillna(x.median()))\n",
    "    print(df_wo_nan['price_wo_nan'].isnull().sum())\n",
    "    df_wo_nan['price_wo_nan'] = df.groupby(['region','city'])['price'].apply(lambda x: x.fillna(x.median()))\n",
    "    print(df_wo_nan['price_wo_nan'].isnull().sum())\n",
    "    df_wo_nan['price_wo_nan'] = df.groupby(['region'])['price'].apply(lambda x: x.fillna(x.median()))\n",
    "    print(df_wo_nan['price_wo_nan'].isnull().sum())\n",
    "    return df_wo_nan\n",
    "\n",
    "price_imputed = get_wo_nan_price(df)\n",
    "df = df.merge(price_imputed, left_index=True, right_index=True, how='left')\n"
   ]
  },
  {
   "cell_type": "code",
   "execution_count": 15,
   "metadata": {},
   "outputs": [],
   "source": [
    "df.drop(['region','city','parent_category_name','category_name','param_1','param_2','param_3','price',], axis=1, inplace=True)"
   ]
  },
  {
   "cell_type": "code",
   "execution_count": 7,
   "metadata": {},
   "outputs": [],
   "source": [
    "for c in ['image_top_1','price_wo_nan','item_seq_number']:\n",
    "    df[c].fillna(value=0, inplace=True)\n",
    "    df[c] = (df[c] - np.mean(df[c]))/np.std(df[c])"
   ]
  },
  {
   "cell_type": "code",
   "execution_count": 8,
   "metadata": {},
   "outputs": [],
   "source": [
    "df.rename(columns={'price_wo_nan': 'price'}, inplace=True)"
   ]
  },
  {
   "cell_type": "code",
   "execution_count": 9,
   "metadata": {},
   "outputs": [
    {
     "data": {
      "text/plain": [
       "['item_seq_number',\n",
       " 'image_top_1',\n",
       " 'price_missing',\n",
       " 'image_top_1_missing',\n",
       " 'price']"
      ]
     },
     "execution_count": 9,
     "metadata": {},
     "output_type": "execute_result"
    }
   ],
   "source": [
    "feat_cols = list(df.columns)[0:]\n",
    "feat_cols"
   ]
  },
  {
   "cell_type": "code",
   "execution_count": 10,
   "metadata": {},
   "outputs": [
    {
     "data": {
      "text/html": [
       "<div>\n",
       "<style scoped>\n",
       "    .dataframe tbody tr th:only-of-type {\n",
       "        vertical-align: middle;\n",
       "    }\n",
       "\n",
       "    .dataframe tbody tr th {\n",
       "        vertical-align: top;\n",
       "    }\n",
       "\n",
       "    .dataframe thead th {\n",
       "        text-align: right;\n",
       "    }\n",
       "</style>\n",
       "<table border=\"1\" class=\"dataframe\">\n",
       "  <thead>\n",
       "    <tr style=\"text-align: right;\">\n",
       "      <th></th>\n",
       "      <th>item_seq_number</th>\n",
       "      <th>image_top_1</th>\n",
       "      <th>price_missing</th>\n",
       "      <th>image_top_1_missing</th>\n",
       "      <th>price</th>\n",
       "    </tr>\n",
       "    <tr>\n",
       "      <th>item_id</th>\n",
       "      <th></th>\n",
       "      <th></th>\n",
       "      <th></th>\n",
       "      <th></th>\n",
       "      <th></th>\n",
       "    </tr>\n",
       "  </thead>\n",
       "  <tbody>\n",
       "    <tr>\n",
       "      <th>b912c3c6a6ad</th>\n",
       "      <td>-0.136324</td>\n",
       "      <td>-0.152807</td>\n",
       "      <td>0</td>\n",
       "      <td>0</td>\n",
       "      <td>-0.005147</td>\n",
       "    </tr>\n",
       "    <tr>\n",
       "      <th>2dac0150717d</th>\n",
       "      <td>-0.133284</td>\n",
       "      <td>-0.472375</td>\n",
       "      <td>0</td>\n",
       "      <td>0</td>\n",
       "      <td>-0.005101</td>\n",
       "    </tr>\n",
       "    <tr>\n",
       "      <th>ba83aefab5dc</th>\n",
       "      <td>-0.135073</td>\n",
       "      <td>1.894048</td>\n",
       "      <td>0</td>\n",
       "      <td>0</td>\n",
       "      <td>-0.005083</td>\n",
       "    </tr>\n",
       "    <tr>\n",
       "      <th>02996f1dd2ea</th>\n",
       "      <td>-0.085533</td>\n",
       "      <td>-0.367201</td>\n",
       "      <td>0</td>\n",
       "      <td>0</td>\n",
       "      <td>-0.005115</td>\n",
       "    </tr>\n",
       "    <tr>\n",
       "      <th>7c90be56d2ab</th>\n",
       "      <td>-0.136146</td>\n",
       "      <td>1.117376</td>\n",
       "      <td>0</td>\n",
       "      <td>0</td>\n",
       "      <td>-0.004443</td>\n",
       "    </tr>\n",
       "  </tbody>\n",
       "</table>\n",
       "</div>"
      ],
      "text/plain": [
       "              item_seq_number  image_top_1  price_missing  \\\n",
       "item_id                                                     \n",
       "b912c3c6a6ad        -0.136324    -0.152807              0   \n",
       "2dac0150717d        -0.133284    -0.472375              0   \n",
       "ba83aefab5dc        -0.135073     1.894048              0   \n",
       "02996f1dd2ea        -0.085533    -0.367201              0   \n",
       "7c90be56d2ab        -0.136146     1.117376              0   \n",
       "\n",
       "              image_top_1_missing     price  \n",
       "item_id                                      \n",
       "b912c3c6a6ad                    0 -0.005147  \n",
       "2dac0150717d                    0 -0.005101  \n",
       "ba83aefab5dc                    0 -0.005083  \n",
       "02996f1dd2ea                    0 -0.005115  \n",
       "7c90be56d2ab                    0 -0.004443  "
      ]
     },
     "execution_count": 10,
     "metadata": {},
     "output_type": "execute_result"
    }
   ],
   "source": [
    "train_price = df.loc[train_idx,:]\n",
    "train_price.head()"
   ]
  },
  {
   "cell_type": "code",
   "execution_count": 11,
   "metadata": {},
   "outputs": [
    {
     "data": {
      "text/html": [
       "<div>\n",
       "<style scoped>\n",
       "    .dataframe tbody tr th:only-of-type {\n",
       "        vertical-align: middle;\n",
       "    }\n",
       "\n",
       "    .dataframe tbody tr th {\n",
       "        vertical-align: top;\n",
       "    }\n",
       "\n",
       "    .dataframe thead th {\n",
       "        text-align: right;\n",
       "    }\n",
       "</style>\n",
       "<table border=\"1\" class=\"dataframe\">\n",
       "  <thead>\n",
       "    <tr style=\"text-align: right;\">\n",
       "      <th></th>\n",
       "      <th>item_seq_number</th>\n",
       "      <th>image_top_1</th>\n",
       "      <th>price_missing</th>\n",
       "      <th>image_top_1_missing</th>\n",
       "      <th>price</th>\n",
       "    </tr>\n",
       "    <tr>\n",
       "      <th>item_id</th>\n",
       "      <th></th>\n",
       "      <th></th>\n",
       "      <th></th>\n",
       "      <th></th>\n",
       "      <th></th>\n",
       "    </tr>\n",
       "  </thead>\n",
       "  <tbody>\n",
       "    <tr>\n",
       "      <th>6544e41a8817</th>\n",
       "      <td>-0.124879</td>\n",
       "      <td>0.870621</td>\n",
       "      <td>1</td>\n",
       "      <td>0</td>\n",
       "      <td>-0.005135</td>\n",
       "    </tr>\n",
       "    <tr>\n",
       "      <th>65b9484d670f</th>\n",
       "      <td>-0.135967</td>\n",
       "      <td>-1.172190</td>\n",
       "      <td>0</td>\n",
       "      <td>1</td>\n",
       "      <td>-0.005101</td>\n",
       "    </tr>\n",
       "    <tr>\n",
       "      <th>8bab230b2ecd</th>\n",
       "      <td>-0.134000</td>\n",
       "      <td>1.821235</td>\n",
       "      <td>0</td>\n",
       "      <td>0</td>\n",
       "      <td>-0.004888</td>\n",
       "    </tr>\n",
       "    <tr>\n",
       "      <th>8e348601fefc</th>\n",
       "      <td>-0.124163</td>\n",
       "      <td>-1.172190</td>\n",
       "      <td>0</td>\n",
       "      <td>1</td>\n",
       "      <td>-0.005074</td>\n",
       "    </tr>\n",
       "    <tr>\n",
       "      <th>8bd2fe400b89</th>\n",
       "      <td>-0.134000</td>\n",
       "      <td>-0.158875</td>\n",
       "      <td>0</td>\n",
       "      <td>0</td>\n",
       "      <td>-0.005067</td>\n",
       "    </tr>\n",
       "  </tbody>\n",
       "</table>\n",
       "</div>"
      ],
      "text/plain": [
       "              item_seq_number  image_top_1  price_missing  \\\n",
       "item_id                                                     \n",
       "6544e41a8817        -0.124879     0.870621              1   \n",
       "65b9484d670f        -0.135967    -1.172190              0   \n",
       "8bab230b2ecd        -0.134000     1.821235              0   \n",
       "8e348601fefc        -0.124163    -1.172190              0   \n",
       "8bd2fe400b89        -0.134000    -0.158875              0   \n",
       "\n",
       "              image_top_1_missing     price  \n",
       "item_id                                      \n",
       "6544e41a8817                    0 -0.005135  \n",
       "65b9484d670f                    1 -0.005101  \n",
       "8bab230b2ecd                    0 -0.004888  \n",
       "8e348601fefc                    1 -0.005074  \n",
       "8bd2fe400b89                    0 -0.005067  "
      ]
     },
     "execution_count": 11,
     "metadata": {},
     "output_type": "execute_result"
    }
   ],
   "source": [
    "test_price = df.loc[test_idx,:]\n",
    "test_price.head()"
   ]
  },
  {
   "cell_type": "code",
   "execution_count": 17,
   "metadata": {},
   "outputs": [
    {
     "data": {
      "text/plain": [
       "{'image_top_1_missing': 2}"
      ]
     },
     "execution_count": 17,
     "metadata": {},
     "output_type": "execute_result"
    }
   ],
   "source": [
    "emb_cat_max = {}\n",
    "for c in ['image_top_1_missing']:\n",
    "    emb_cat_max[c] = max(train_price[c].max(), test_price[c].max())+1\n",
    "emb_cat_max"
   ]
  },
  {
   "cell_type": "code",
   "execution_count": 18,
   "metadata": {},
   "outputs": [],
   "source": [
    "train_price.to_csv(f'{feat_dir}/train_numeric.csv', index=True, header=True)\n",
    "test_price.to_csv(f'{feat_dir}/test_numeric.csv', index=True, header=True)"
   ]
  }
 ],
 "metadata": {
  "kernelspec": {
   "display_name": "Python 3",
   "language": "python",
   "name": "python3"
  },
  "language_info": {
   "codemirror_mode": {
    "name": "ipython",
    "version": 3
   },
   "file_extension": ".py",
   "mimetype": "text/x-python",
   "name": "python",
   "nbconvert_exporter": "python",
   "pygments_lexer": "ipython3",
   "version": "3.6.5"
  }
 },
 "nbformat": 4,
 "nbformat_minor": 2
}
