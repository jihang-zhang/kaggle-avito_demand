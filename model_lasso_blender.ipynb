{
 "cells": [
  {
   "cell_type": "code",
   "execution_count": 1,
   "metadata": {},
   "outputs": [],
   "source": [
    "import gc\n",
    "\n",
    "from pprint import pprint\n",
    "\n",
    "import pandas as pd\n",
    "import numpy as np\n",
    "import lightgbm as lgb\n",
    "\n",
    "from cv import run_cv_model\n",
    "from utils import print_step, rmse\n",
    "from cache import get_data, is_in_cache, load_cache, save_in_cache"
   ]
  },
  {
   "cell_type": "code",
   "execution_count": 48,
   "metadata": {},
   "outputs": [
    {
     "name": "stdout",
     "output_type": "stream",
     "text": [
      "~~~~~~~~~~~~~~~~~~~~~~~~\n",
      "[2018-06-17 23:24:15.869012] Importing Data\n",
      "Train shape: (1503424, 18)\n",
      "Test shape: (508438, 17)\n",
      "[2018-06-17 23:24:27.263361] Base LGB\n",
      "Test shape: (508438, 1)\n",
      "Train shape: (1503424, 1)\n",
      "[2018-06-17 23:24:27.549491] Skipped... Loaded cache/train_base_lgb.csv and cache/test_base_lgb.csv from cache!\n",
      "[2018-06-17 23:24:27.555967] Ridge LGB\n",
      "Test shape: (508438, 1)\n",
      "Train shape: (1503424, 1)\n",
      "[2018-06-17 23:24:27.840575] Skipped... Loaded cache/train_ridge_lgb.csv and cache/test_ridge_lgb.csv from cache!\n",
      "[2018-06-17 23:24:27.842437] Parent Cat Ridge\n",
      "Test shape: (508438, 21)\n",
      "Train shape: (1503424, 22)\n",
      "[2018-06-17 23:24:40.705401] Skipped... Loaded cache/train_parent_cat_ridges.csv and cache/test_parent_cat_ridges.csv from cache!\n",
      "[2018-06-17 23:24:40.725418] Parent Region Cat Ridge\n",
      "Test shape: (508438, 22)\n",
      "Train shape: (1503424, 23)\n",
      "[2018-06-17 23:24:54.833154] Skipped... Loaded cache/train_parent_regioncat_ridges.csv and cache/test_parent_regioncat_ridges.csv from cache!\n",
      "[2018-06-17 23:24:54.924423] Cat Bin Ridge\n",
      "Test shape: (508438, 23)\n",
      "Train shape: (1503424, 23)\n",
      "[2018-06-17 23:25:08.880960] Skipped... Loaded cache/train_cat_bin_ridges.csv and cache/test_cat_bin_ridges.csv from cache!\n",
      "[2018-06-17 23:25:09.044297] Deep LGB\n",
      "Test shape: (508438, 1)\n",
      "Train shape: (1503424, 1)\n",
      "[2018-06-17 23:25:09.328162] Skipped... Loaded cache/train_deep_lgb.csv and cache/test_deep_lgb.csv from cache!\n",
      "[2018-06-17 23:25:09.329916] Full Text Ridge\n",
      "Test shape: (508438, 1)\n",
      "Train shape: (1503424, 1)\n",
      "[2018-06-17 23:25:09.615238] Skipped... Loaded cache/train_full_text_ridge.csv and cache/test_full_text_ridge.csv from cache!\n",
      "[2018-06-17 23:25:09.617021] Complete Ridge\n",
      "Test shape: (508438, 1)\n",
      "Train shape: (1503424, 1)\n",
      "[2018-06-17 23:25:09.899976] Skipped... Loaded cache/train_complete_ridge.csv and cache/test_complete_ridge.csv from cache!\n",
      "[2018-06-17 23:25:09.901750] Complete FM\n",
      "Test shape: (508438, 1)\n",
      "Train shape: (1503424, 1)\n",
      "[2018-06-17 23:25:10.183753] Skipped... Loaded cache/train_complete_fm.csv and cache/test_complete_fm.csv from cache!\n",
      "[2018-06-17 23:25:10.185490] tffm2\n",
      "Test shape: (508438, 1)\n",
      "Train shape: (1503424, 1)\n",
      "[2018-06-17 23:25:10.442496] Skipped... Loaded cache/train_tffm2.csv and cache/test_tffm2.csv from cache!\n",
      "[2018-06-17 23:25:10.444252] tffm3\n",
      "Test shape: (508438, 1)\n",
      "Train shape: (1503424, 1)\n",
      "[2018-06-17 23:25:10.701118] Skipped... Loaded cache/train_tffm3.csv and cache/test_tffm3.csv from cache!\n",
      "[2018-06-17 23:25:10.703119] CNN FastText\n",
      "Test shape: (508438, 1)\n",
      "Train shape: (1503424, 1)\n",
      "[2018-06-17 23:25:10.959005] Skipped... Loaded cache/train_CNN_FastText.csv and cache/test_CNN_FastText.csv from cache!\n",
      "[2018-06-17 23:25:10.960838] CNN FastText 2\n",
      "Test shape: (508438, 1)\n",
      "Train shape: (1503424, 1)\n",
      "[2018-06-17 23:25:11.226969] Skipped... Loaded cache/train_CNN_FastText_2.csv and cache/test_CNN_FastText_2.csv from cache!\n",
      "[2018-06-17 23:25:11.228697] CNN FastText 3\n",
      "Test shape: (1503424, 1)\n",
      "Train shape: (1503424, 1)\n",
      "[2018-06-17 23:25:11.661549] Skipped... Loaded cache/train_CNN_FastText_3.csv and cache/test_CNN_FastText_3.csv from cache!\n",
      "[2018-06-17 23:25:11.688287] CNN FastText 4\n",
      "Test shape: (508438, 1)\n",
      "Train shape: (1503424, 1)\n",
      "[2018-06-17 23:25:11.951820] Skipped... Loaded cache/train_CNN_FastText_4.csv and cache/test_CNN_FastText_4.csv from cache!\n"
     ]
    }
   ],
   "source": [
    "print('~~~~~~~~~~~~~~~~~~~~~~~~')\n",
    "print_step('Importing Data')\n",
    "train, test = get_data()\n",
    "target = train['deal_probability']\n",
    "train_ = train['item_id']\n",
    "train_id = train['item_id']\n",
    "test_id = test['item_id']\n",
    "del train, test\n",
    "\n",
    "print_step('Base LGB')\n",
    "train_base_lgb, test_base_lgb = load_cache('base_lgb')\n",
    "train_ = train_base_lgb[['base_lgb']]\n",
    "test_ = test_base_lgb[['base_lgb']]\n",
    "\n",
    "print_step('Ridge LGB')\n",
    "train_ridge_lgb, test_ridge_lgb = load_cache('ridge_lgb')\n",
    "train_['ridge_lgb'] = train_ridge_lgb['ridge_lgb']\n",
    "test_['ridge_lgb'] = test_ridge_lgb['ridge_lgb']\n",
    "\n",
    "print_step('Parent Cat Ridge')\n",
    "train_pcat_ridge, test_pcat_ridge = load_cache('parent_cat_ridges')\n",
    "train_pcat_ridge = train_pcat_ridge[[c for c in train_pcat_ridge.columns if 'ridge' in c]]\n",
    "test_pcat_ridge = test_pcat_ridge[[c for c in test_pcat_ridge.columns if 'ridge' in c]]\n",
    "train_ = pd.concat([train_, train_pcat_ridge], axis=1)\n",
    "test_ = pd.concat([test_, test_pcat_ridge], axis=1)\n",
    "\n",
    "print_step('Parent Region Cat Ridge')\n",
    "train_rcat_ridge, test_rcat_ridge = load_cache('parent_regioncat_ridges')\n",
    "train_rcat_ridge = train_rcat_ridge[[c for c in train_rcat_ridge.columns if 'ridge' in c]]\n",
    "test_rcat_ridge = test_rcat_ridge[[c for c in test_rcat_ridge.columns if 'ridge' in c]]\n",
    "train_ = pd.concat([train_, train_rcat_ridge], axis=1)\n",
    "test_ = pd.concat([test_, test_rcat_ridge], axis=1)\n",
    "\n",
    "print_step('Cat Bin Ridge')\n",
    "train_catb_ridge, test_catb_ridge = load_cache('cat_bin_ridges')\n",
    "train_catb_ridge = train_catb_ridge[[c for c in train_catb_ridge.columns if 'ridge' in c]]\n",
    "test_catb_ridge = test_catb_ridge[[c for c in test_catb_ridge.columns if 'ridge' in c]]\n",
    "train_ = pd.concat([train_, train_catb_ridge], axis=1)\n",
    "test_ = pd.concat([test_, test_catb_ridge], axis=1)\n",
    "\n",
    "print_step('Deep LGB')\n",
    "train_deep_lgb, test_deep_lgb = load_cache('deep_lgb')\n",
    "train_['deep_lgb'] = train_deep_lgb['deep_lgb']\n",
    "test_['deep_lgb'] = test_deep_lgb['deep_lgb']\n",
    "\n",
    "print_step('Full Text Ridge')\n",
    "train_full_text_ridge, test_full_text_ridge = load_cache('full_text_ridge')\n",
    "train_['full_text_ridge'] = train_full_text_ridge['full_text_ridge']\n",
    "test_['full_text_ridge'] = test_full_text_ridge['full_text_ridge']\n",
    "\n",
    "print_step('Complete Ridge')\n",
    "train_complete_ridge, test_complete_ridge = load_cache('complete_ridge')\n",
    "train_['complete_ridge'] = train_complete_ridge['complete_ridge']\n",
    "test_['complete_ridge'] = test_complete_ridge['complete_ridge']\n",
    "\n",
    "print_step('Complete FM')\n",
    "train_complete_fm, test_complete_fm = load_cache('complete_fm')\n",
    "train_['complete_fm'] = train_complete_fm['complete_fm']\n",
    "test_['complete_fm'] = test_complete_fm['complete_fm']\n",
    "\n",
    "print_step('tffm2')\n",
    "train_tffm2, test_tffm2 = load_cache('tffm2')\n",
    "train_['tffm2'] = train_tffm2['tffm2']\n",
    "test_['tffm2'] = test_tffm2['tffm2']\n",
    "\n",
    "print_step('tffm3')\n",
    "train_tffm3, test_tffm3 = load_cache('tffm3')\n",
    "train_['tffm3'] = train_tffm3['tffm3']\n",
    "test_['tffm3'] = test_tffm3['tffm3']\n",
    "\n",
    "print_step('CNN FastText')\n",
    "train_cnn_ft, test_cnn_ft = load_cache('CNN_FastText')\n",
    "train_['cnn_ft'] = train_cnn_ft['CNN_FastText']\n",
    "test_['cnn_ft'] = test_cnn_ft['CNN_FastText']\n",
    "\n",
    "print_step('CNN FastText 2')\n",
    "train_cnn_ft, test_cnn_ft = load_cache('CNN_FastText_2')\n",
    "train_['cnn_ft2'] = train_cnn_ft['CNN_FastText_2']\n",
    "test_['cnn_ft2'] = test_cnn_ft['CNN_FastText_2']\n",
    "\n",
    "print_step('CNN FastText 3')\n",
    "train_cnn_ft, test_cnn_ft = load_cache('CNN_FastText_3')\n",
    "train_['cnn_ft3'] = train_cnn_ft['CNN_FastText_3']\n",
    "test_['cnn_ft3'] = test_cnn_ft['CNN_FastText_3']\n",
    "\n",
    "print_step('CNN FastText 4')\n",
    "train_cnn_ft, test_cnn_ft = load_cache('CNN_FastText_4')\n",
    "train_['cnn_ft4'] = train_cnn_ft['CNN_FastText_4']\n",
    "test_['cnn_ft4'] = test_cnn_ft['CNN_FastText_4']"
   ]
  },
  {
   "cell_type": "code",
   "execution_count": 49,
   "metadata": {},
   "outputs": [],
   "source": [
    "from sklearn.linear_model import Lasso"
   ]
  },
  {
   "cell_type": "code",
   "execution_count": 64,
   "metadata": {},
   "outputs": [
    {
     "data": {
      "text/plain": [
       "Lasso(alpha=1e-05, copy_X=True, fit_intercept=True, max_iter=1000,\n",
       "   normalize=False, positive=True, precompute=False, random_state=None,\n",
       "   selection='cyclic', tol=0.0001, warm_start=False)"
      ]
     },
     "execution_count": 64,
     "metadata": {},
     "output_type": "execute_result"
    }
   ],
   "source": [
    "model = Lasso(alpha = 1e-5,positive=True)\n",
    "model.fit(train_.values, target)"
   ]
  },
  {
   "cell_type": "code",
   "execution_count": 63,
   "metadata": {},
   "outputs": [
    {
     "name": "stdout",
     "output_type": "stream",
     "text": [
      "('base_lgb', 0.0)\n",
      "('ridge_lgb', 0.6773360055760547)\n",
      "('cat_title_ridge', 0.0)\n",
      "('cat_desc_ridge', 0.0)\n",
      "('cat_desc_char_ridge', 0.0)\n",
      "('cat_all_text_ridge', 0.0)\n",
      "('regioncat_title_ridge', 0.0)\n",
      "('regioncat_desc_ridge', 0.0)\n",
      "('regioncat_desc_char_ridge', 0.0)\n",
      "('regioncat_all_text_ridge', 0.0)\n",
      "('cat_bin_title_ridge', 0.0)\n",
      "('cat_bin_desc_ridge', 0.0)\n",
      "('cat_bin_desc_char_ridge', 0.0)\n",
      "('cat_bin_all_text_ridge', 0.0)\n",
      "('deep_lgb', 0.14173178052870247)\n",
      "('full_text_ridge', 0.0)\n",
      "('complete_ridge', 0.0)\n",
      "('complete_fm', 0.0)\n",
      "('tffm2', 0.0)\n",
      "('tffm3', 0.0)\n",
      "('cnn_ft', 0.0)\n",
      "('cnn_ft2', 0.0)\n",
      "('cnn_ft3', 0.07047802861731235)\n",
      "('cnn_ft4', 0.15005670729728662)\n"
     ]
    }
   ],
   "source": [
    "for i in zip(train_.columns, model.coef_):\n",
    "    print(i)"
   ]
  },
  {
   "cell_type": "code",
   "execution_count": 65,
   "metadata": {},
   "outputs": [],
   "source": [
    "params = {\n",
    "    \"alpha\": 1e-5,\n",
    "    \"positive\": True\n",
    "}\n",
    "def runLasso(train_X, train_y, val_X, val_y, test_X, params):\n",
    "    model = Lasso(**params)\n",
    "    model.fit(train_X, train_y)\n",
    "    print_step('Predict Val 1/2')\n",
    "    pred_val_y = model.predict(val_X)\n",
    "    print_step('Predict Test 2/2')\n",
    "    pred_test_y = model.predict(test_X)\n",
    "    return pred_val_y, pred_test_y"
   ]
  },
  {
   "cell_type": "code",
   "execution_count": 66,
   "metadata": {},
   "outputs": [
    {
     "name": "stdout",
     "output_type": "stream",
     "text": [
      "[2018-06-17 23:41:43.600562] Started lasso_blender fold 1/5\n",
      "[2018-06-17 23:41:47.445274] Predict Val 1/2\n",
      "[2018-06-17 23:41:47.450086] Predict Test 2/2\n",
      "[2018-06-17 23:41:47.469633] lasso_blender cv score 1 : 0.2135611964297842\n",
      "[2018-06-17 23:41:47.481135] Started lasso_blender fold 2/5\n",
      "[2018-06-17 23:41:51.456546] Predict Val 1/2\n",
      "[2018-06-17 23:41:51.461296] Predict Test 2/2\n",
      "[2018-06-17 23:41:51.480892] lasso_blender cv score 2 : 0.2128683582341426\n",
      "[2018-06-17 23:41:51.492503] Started lasso_blender fold 3/5\n",
      "[2018-06-17 23:41:55.467217] Predict Val 1/2\n",
      "[2018-06-17 23:41:55.472071] Predict Test 2/2\n",
      "[2018-06-17 23:41:55.491503] lasso_blender cv score 3 : 0.21276185522867955\n",
      "[2018-06-17 23:41:55.503228] Started lasso_blender fold 4/5\n",
      "[2018-06-17 23:41:59.577520] Predict Val 1/2\n",
      "[2018-06-17 23:41:59.582189] Predict Test 2/2\n",
      "[2018-06-17 23:41:59.601698] lasso_blender cv score 4 : 0.21267414337511575\n",
      "[2018-06-17 23:41:59.613347] Started lasso_blender fold 5/5\n",
      "[2018-06-17 23:42:04.218374] Predict Val 1/2\n",
      "[2018-06-17 23:42:04.223150] Predict Test 2/2\n",
      "[2018-06-17 23:42:04.242717] lasso_blender cv score 5 : 0.21319024415035348\n",
      "[2018-06-17 23:42:04.242951] lasso_blender cv scores : [0.2135611964297842, 0.2128683582341426, 0.21276185522867955, 0.21267414337511575, 0.21319024415035348]\n",
      "[2018-06-17 23:42:04.243079] lasso_blender mean cv score : 0.21301115948361513\n",
      "[2018-06-17 23:42:04.243238] lasso_blender std cv score : 0.0003258025861713609\n"
     ]
    }
   ],
   "source": [
    "results = run_cv_model(train_, test_, target, runLasso, params, rmse, 'lasso_blender')"
   ]
  },
  {
   "cell_type": "code",
   "execution_count": null,
   "metadata": {},
   "outputs": [],
   "source": [
    "# alpha 1e-6 Positive Only  # mean cv: 0.21303411626812468\n",
    "# alpha 1e-5 Positive Only  # mean cv: 0.21303410763895192\n",
    "# alpha 1e-3 Positive Only  # mean cv: 0.21316230802022598\n",
    "# alpha 5e-5 Positive Only  # mean cv: 0.21303434967228338\n",
    "# alpha 5e-6 Positive Only  # mean cv: 0.21303410990268196"
   ]
  }
 ],
 "metadata": {
  "kernelspec": {
   "display_name": "Python 3",
   "language": "python",
   "name": "python3"
  },
  "language_info": {
   "codemirror_mode": {
    "name": "ipython",
    "version": 3
   },
   "file_extension": ".py",
   "mimetype": "text/x-python",
   "name": "python",
   "nbconvert_exporter": "python",
   "pygments_lexer": "ipython3",
   "version": "3.6.3"
  }
 },
 "nbformat": 4,
 "nbformat_minor": 2
}
